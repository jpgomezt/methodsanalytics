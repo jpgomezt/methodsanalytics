{
 "cells": [
  {
   "cell_type": "markdown",
   "metadata": {
    "id": "yF92P-CQxlVy"
   },
   "source": [
    "<p style=\"text-align:center;\"><img src=\"images/Logotipo-EAFIT-azul-en-PNG.png\" alt=\"Logo\"></p>\n",
    "\n",
    "<h1 align=\"center\">Análisis Numérico</h1>\n",
    "<h1 align=\"center\">2021/01</h1>\n",
    "<h1 align=\"center\"><b>Análisis del modelo SIRDV-COVID en Colombia<b></h1>\n",
    "<h1 align=\"center\"><b>Integrantes</b></h1>\n",
    "<h2 align=\"center\">Juan Pablo Ossa Zapata</h2>\n",
    "<h2 align=\"center\">Juan Pablo Gómez Triana</h2>\n",
    "<h2 align=\"center\">Gonzalo Garcia Hernandez</h2>\n",
    "<h2 align=\"center\">Craig David Cartagena</h2>\n",
    "<h1 align=\"center\"><b>Profesor</b></h1>\n",
    "<h2 align=\"center\">Carlos Alberto Alvarez Henao</h2>\n",
    "\n",
    "\n",
    "\n",
    "\n",
    "\n",
    "\n",
    "\n",
    "\n",
    "\n"
   ]
  },
  {
   "cell_type": "markdown",
   "metadata": {},
   "source": [
    "# Recomendaciones\n",
    "## Para visualizar el proyecto hay dos alternativas\n",
    "Visualizarlo con Jupyter Notebook ([https://jupyter.org/](https://jupyter.org/)) e instalando el kernel de Julia ([https://github.com/JuliaLang/IJulia.jl](https://github.com/JuliaLang/IJulia.jl))\n",
    "\n",
    "Visualizarlo en Visual Studio Code-Insiders ([https://code.visualstudio.com/insiders/](https://code.visualstudio.com/insiders/)) y utilizar la extension de Jupyter para Visual Studio Code ([https://marketplace.visualstudio.com/items?itemName=ms-toolsai.jupyter](https://marketplace.visualstudio.com/items?itemName=ms-toolsai.jupyter)) e instalar el kernel de Julia ([https://github.com/JuliaLang/IJulia.jl](https://github.com/JuliaLang/IJulia.jl))\n",
    "\n",
    "Utilizando Google Colab\n",
    "Mirar: [https://stackoverflow.com/questions/58270424/julia-in-google-colab](https://stackoverflow.com/questions/58270424/julia-in-google-colab) "
   ]
  },
  {
   "cell_type": "markdown",
   "metadata": {
    "id": "i7Oor3Qd1X08"
   },
   "source": [
    "<h1><b>Contenido<b></h1>\n",
    "<h3>1. Resumen</h3>\n",
    "<h3>2. Palabras clave</h3>\n",
    "<h3>3. Introducción</h3>\n",
    "<h3>4. Objetivos</h3>\n",
    "<h3>5. Marco teórico</h3>\n",
    "<ul>\n",
    "    <li><h4>5.1 ¿Que es el COVID-19?</h4></li>\n",
    "    <li><h4>5.2 Método de Euler</h4></li>\n",
    "</ul>\n",
    "<h3>6. Procedimientos</h3>\n",
    "<ul>\n",
    "    <li><h4>6.1 Modelo SIR</h4></li>\n",
    "    <li><h4>6.2 Modelo SIRV</h4></li>\n",
    "    <li><h4>6.3 Modelo SIRDV</h4></li>\n",
    "    <li><h4>6.4 Implementacion de Modelo SIRDV utilizando Metodo de Euler</h4></li>\n",
    "</ul>\n",
    "<h3>7. Resultados</h3>\n",
    "<h3>8. Análisis y conclusiones</h3>\n",
    "<h3>9. Referencias bibliográficas</h3>"
   ]
  },
  {
   "cell_type": "markdown",
   "metadata": {},
   "source": [
    "<h1><b>1. Resumen <b></h1>\n",
    "<p> Actualmente vivimos una situacion a nivel mundial por causa del virus COVID-19, que ha afectado a nivel economico y de salud a la poblacion mundial. En el año 2020 gran parte del mundo estuvo en cuarentena a la espera de una vacuna, que posibilite la inmunidad de este virus que ha tenido un efecto enorme en cuanto a la tasa de mortalidad. </p>\n",
    "\n",
    "<p> Colombia en el año 2021, empezo su proceso de vacunacion. Esto con lleva una logistica y un trabajo por diferentes sectores, que a partir de su eficiencia, pueden salvar vidas y restablecer nuestras actividades cotidianas</p>\n",
    "\n",
    "<p> Con este proyecto a partir del modelo SIR, Queremos transformar y mejorar el modelo base, para adecuarlo a un modelo que incluya el proceso de vacunacion, enfocado en Colombia </p>"
   ]
  },
  {
   "cell_type": "markdown",
   "metadata": {},
   "source": [
    "<h1><b>2. Palabras Claves <b></h1>\n",
    "<p>Vacunacion</p>\n",
    "<p>SIR</p>\n",
    "<p>SIRDV</p>\n",
    "<p>Colombia</p>\n",
    "<p>Ministerio de Salud</p>\n",
    "<p>Poblacion</p>\n",
    "<p>Pandemia</p>\n",
    "<p>Covid-19</p>"
   ]
  },
  {
   "cell_type": "markdown",
   "metadata": {
    "id": "MsH0jhZI4G8i"
   },
   "source": [
    "<h1><b>3. Introduccion <b></h1>\n",
    "<p> Este proyecto se crea con la finalidad de implementar uno o varios de los metodos matematicos que se ven a lo largo del curso analisis numerico, aplicado a una problematica que se este presentando actualmente.</p>\n",
    "\n",
    "<p> La problematica que se determino trabajar por parte de los integrantes y el profesor fue el proceso de vacunacion de COVID-19 en Colombia, Donde se tendran en cuentas las variables y los fenomenos que se presentan. Para llegar analizar el comportamiento desde los datos que suministra el ministerio de salud.</p>\n",
    "\n",
    "<p>Con este proyecto se tiene como objetivo obtener una simulacion que se asemeje a la realidad, de lo que sucede con esta tematica.</p>"
   ]
  },
  {
   "cell_type": "markdown",
   "metadata": {},
   "source": [
    "<h1><b>4. Objetivos <b></h1>\n",
    "<p> Adaptar un modelo que integre el proceso de vacunacion en Colombia, teniendo de base el modelo SIR. Con el fin de poder analizar y comprender el comportamiento de las distintas variables que afectan los resultados, como son: Personas Suceptibles, Infectados, Recuperados, Vacunados y Muertos </p>"
   ]
  },
  {
   "cell_type": "markdown",
   "metadata": {},
   "source": [
    "<h1><b>5. Marco Toerico <b></h1>\n",
    "<h2><b>5.1 ¿Que es el COVID-19?<b></h2>\n",
    "<p> El virus covid-19 es un virus ARN (RNA en inglés). Esto significa que el material genético en su interior es ARN o ácido ribonucleico, en lugar de ADN (DNA en inglés).\n",
    "Los virus ARN, como los de la gripe, el ébola o la covid-19 entre otros, consisten básicamente en un mensaje escrito en ARN rodeado de proteínas. Ese mensaje está escrito en cuatro letras, \"a\", \"g\", \"c\", \"u\". Cada una de ellas representa un compuesto químico o nucleótido, y el orden de esos compuestos, al igual que el orden de las letras en una palabra, determina qué mensaje se transmite. En el caso de un virus, el orden de las letras contiene las instrucciones para que el virus pueda replicarse o copiarse a sí mismo. Y al replicarse, los virus generan mutaciones o errores en la secuencia de letras.\n",
    "\n",
    "\"Los virus RNA al tener genomas más pequeños pueden tolerar frecuencias de mutación mayores (el número de mutaciones frente al número total de nucleótidos). Este número es aproximadamente de 1 mutación cada 10.000 nucleótidos, lo cual en el mundo de la biología es mucho\", explicó a BBC Mundo Armando Arias, virólogo de la Universidad de Castilla-La Mancha en España, e investigador de virus ARN.\n",
    "\n",
    "\"Los virus DNA grandes tienen tasas de mutación mucho menores (entre 100 y 10.000 veces menor). Al ser sus genomas tan grandes no pueden tolerar 1 mutación cada 10.000 nucleótidos. Se acumularían muchas mutaciones aleatorias en un solo genoma que podrían inactivar alguna función vital para el virus. Por ello, los virus DNA son menos mutables\", agregó el científico.\n",
    "\n",
    "\"Los virus RNA además tienen polimerasas (las enzimas que copian el material genético) que mutan más que las de los virus DNA. Y no tienen mecanismos de reparación de errores\".\n",
    "\n",
    "Esteban Domingo, virólogo del Centro de Biología Molecular Severo Ochoa, en Madrid, fue pionero en demostrar que los virus ARN se multiplicaban cometiendo errores hasta acabar formando lo que el científico llama \"nubes de mutantes\". Las nubes de mutantes luchan continuamente por adaptarse a su entorno y prosperar. Para el virus, mutar es una \"estrategia de riesgo-beneficio\"\n",
    "\n",
    "\"Tenemos que pensar que los virus RNA al ser tan pequeñitos son 'menos sofisticados' que los virus DNA más grandes. Su batería de información genética es reducida y entonces para escapar el sistema inmune, para adaptarse al ambiente, lo que hacen es tener esa capacidad de cambiar mucho muy rápidamente\".\n",
    "\n",
    "En la última década se han desarrollado fármacos que aumentan los errores de los virus durante su replicación, pero no los errores en las células de los organismos hospedadores, señaló Domingo.\n",
    "\n",
    "Uno de esos fármacos es el favipiravir. El medicamento tiene diferentes mecanismos de acción y uno de ellos es la mutagénesis letal, que el fármaco causa \"engañando\" al virus para que produzca más errores.\"Podríamos decir que el favipiravir es una letra camuflada. El virus la reconoce como letra y la incorpora y una vez incorporada, cuando la va a volver a copiar no sabe si es una a, o si es una g\", explicó Arias. \"Digamos que es una letra promiscua, tiene las características de dos letras, una letra híbrida que engaña al virus\". Hay numerosos estudios sobre el efecto del favipiravir en virus ARN. Uno de ellos es el que Arias publicó en 2014, cuando se encontraba en la Universidad de Cambridge, sobre ratones infectados por norovirus, un virus ARN que causa vómitos y diarrea.\n",
    "\n",
    "\"Nosotros conseguimos curar a los ratones mediante el tratamiento con favipiravir y demostramos que se habían curado por la acción mutagénica de este compuesto\", explicó el científico a BBC Mundo. En Japón, entre otros países, el favipiravir (bajo el nombre de Avigan) es autorizado para tratar en humanos ciertas cepas de influenza. Y también ha habido estudios en humanos con el virus del Ébola. \"Esos estudios sugieren que el favipiravir tiene un efecto positivo cuando se inicia el tratamiento en una época temprana de la enfermedad\", señaló Arias. \n",
    "\n",
    "La gran pregunta es si los fármacos que causan mutagénesis letal podrían ser efectivos en el caso del nuevo coronavirus covid 19. \"Varios grupos, incluido el nuestro, están investigando fármacos que actúan contra el virus causante de covid-19 y que actúan mediante mutagénesis letal\", afirmó Domingo. \"Hay dos trabajos publicados en el 2020 con resultados muy alentadores con el virus SARS-CoV-2, que animan a seguir investigando esta estrategia\". Uno de esos trabajos a los que se refiere Domingo es el que dirigió el científico estadounidense Ralph Baric, de la Universidad de Carolina del Norte, en Chapel Hill. Baric y sus colegas probaron en el laboratorio un fármaco experimental que causa mutagénesis letal, EIDD-2801, en células epiteliales humanas infectadas con SARS-CoV-2. </p>\n",
    "\n",
    "<p> Para mas informacion especifica sobre como es el proceso de fabricacion de la vacuna covid 19, la pagina de NY times muestra que procesos se requieren para realizar la vacuna, en este caso enfocado en el desarollo por parte del laboratorio PFIZER https://www.nytimes.com/es/interactive/2021/health/pfizer-vacuna-covid.html </p>"
   ]
  },
  {
   "cell_type": "markdown",
   "metadata": {},
   "source": [
    "<h2><b>5.2 Método de Euler <b></h2>\n",
    "\n",
    "Éste método consiste en un procedimiento de primer orden para la resolución de ecuaciones diferenciales ordinarias con un valor inicial dado. Al ser un método de primer orden significa que el error local es proporcional al cuadrado del tamaño del paso, y el error global es proporcional al tamaño del paso.\n",
    "\n",
    "En este método, la primera derivada proporciona una estimación directa de la pendiente en el **_t<sub>i</sub>_** actual\n",
    "\n",
    "Se busca predecir un nuevo valor de  **_y<sub>i+1</sub>_**  utilizando la pendiente conseguida con la primera derivada de  **_t<sub>i</sub>_**, el cual se extrapola en forma lineal sobre un tamaño de paso  **_h_**.\n",
    "\n",
    "![](./images/graph_1.png)<br>\n",
    "Fuente: Álvarez, C. (2021, enero). Ecuaciones Diferenciales Ordinarias. GitHub. [https://github.com/carlosalvarezh/Analisis_Numerico/blob/master/Cap06_EDO.ipynb](https://github.com/carlosalvarezh/Analisis_Numerico/blob/master/Cap06_EDO.ipynb)\n",
    "\n",
    "El proyecto se implementó apoyándose en este método, utilizamos dos funciones: eulerstep() y eulermethod(). La función eulerstep() es la que se ejecuta constantemente hasta que se cumpla la condición de parada que en nuestro caso la definimos como los años de simulación. Se usa un tamaño de paso h = 1."
   ]
  },
  {
   "cell_type": "markdown",
   "metadata": {
    "id": "0TWdlSj97Xz9"
   },
   "source": [
    "<h1><b>6. Procedimiento<b></h1>\n",
    "<h4> Para abordar la problemetica, debemos entender como tal que es y el origen del COVID-19</4>\n",
    "<h3><b>¿Que es el coronavirus?<b></h3>\n",
    "<h4> Segun el ministerio de salud de Colombia. Los coronavirus (CoV) son virus que surgen periódicamente en diferentes áreas del mundo y que causan Infección Respiratoria Aguda (IRA), es decir gripa, que pueden llegar a ser leve, moderada o grave.</h4>\n",
    "<h4> El nuevo Coronavirus (COVID-19) ha sido catalogado por la Organización Mundial de la Salud como una emergencia en salud pública de importancia internacional (ESPII). Se han identificado casos en todos los continentes y, el 6 de marzo se confirmó el primer caso en Colombia.</h4>\n",
    "<h4> La infección se produce cuando una persona enferma tose o estornuda y expulsa partículas del virus que entran en contacto con otras personas.</h4>\n",
    "<h3><b>¿A quiénes afecta y cuales son sus sintomas?<b></h3>\n",
    "<h4>Segun el ministerio de salud de Colombia. Se conoce que cualquier persona puede infectarse, independientemente de su edad, pero hasta el momento se han registrado relativamente pocos casos de COVID-19 en niños. La enfermedad es mortal en raras ocasiones, y hasta ahora las víctimas mortales han sido personas de edad avanzada que ya padecían una enfermedad crónica como diabetes, asma o hipertensión.</h4>\n",
    "<h4>El nuevo Coronavirus causa una Infección Respiratoria Aguda (IRA), es decir una gripa, que puede ser leve, moderada o severa. Puede producir fiebre, tos, secreciones nasales (mocos) y malestar general. Algunos pacientes pueden presentar dificultad para respirar.</h4>\n",
    "​​<h3><b>¿Cómo prevenirlo?<b></h3>\n",
    "<h4>Segun el ministerio de salud de Colombia. La medida más efectiva para prevenir el COVID-19 es lavarse las manos correctamente, con agua y jabón. Hacerlo frecuentemente reduce hasta en 50% el riesgo de contraer coronavirus. De igual manera, se recomiendan otras medidas preventivas cotidianas para ayudar a prevenir la propagación de enfermedades respiratorias, como:</h4>\n",
    "\n",
    "* Evita el contacto cercano con personas enfermas\n",
    "* Al estornudar, cúbrete con la parte interna del codo\n",
    "* Si tienes síntomas de resfriado, quédate en casa y usa tapabocas\n",
    "* Limpiar y desinfectar los objetos y las superficies que se tocan frecuentemente\n",
    "* Ventila tu casa\n",
    "\n",
    "<h1><b>6.1 Modelo SIR<b></h1>\n",
    "<h4>El modelo SIR para la propagacion de enfermedades, es uno de los modelos epidemiológicos más simples capaces de capturar muchas de las características típicas de los brotes epidémicos. El nombre del modelo proviene de las iniciales S (población susceptible), I (población infectada) y R (población recuperada). El modelo relaciona las variaciones de las tres poblaciones (Susceptible, Infectada y Recuperada) a través de la tasa de infección y el período infeccioso promedio.</h4>\n",
    "<h1><b>6.2 Modelo SIRV<b></h1>\n",
    "<h4>El modelo SIRV que amplía el modelo SIR estándar agregando la población efectivamente vacunada V ( t ) como variable de estado y la tasa de vacunación diaria u ( t ) y la eficacia de la vacuna α ∈ (0%, 100%] como entradas de control. Este modelo se basa en el principio de que la tasa de población susceptible en el tiempo t disminuirá instantáneamente en αu( t ) correspondiente a la tasa de vacunación ponderada por eficacia.</h4>\n",
    "<br>\n",
    "<img class=\"center\" src=https://www.medrxiv.org/sites/default/files/highwire/medrxiv/early/2021/02/08/2021.02.05.21250572/embed/graphic-19.gif>\n",
    "<img class=\"center\" src=https://www.medrxiv.org/sites/default/files/highwire/medrxiv/early/2021/02/08/2021.02.05.21250572/embed/graphic-20.gif>\n",
    "<img class=\"center\" src=https://www.medrxiv.org/sites/default/files/highwire/medrxiv/early/2021/02/08/2021.02.05.21250572/embed/graphic-21.gif>\n",
    "<img class=\"center\" src=https://www.medrxiv.org/sites/default/files/highwire/medrxiv/early/2021/02/08/2021.02.05.21250572/embed/graphic-22.gif>\n",
    "\n",
    "* S (t): representa la subpoblación susceptible en el momento t . Estos son individuos que aún no están infectados con la enfermedad en el momento t y no tienen inmunidad contra una posible infección.\n",
    "\n",
    "* I (t): representa la subpoblación infectada en el momento t (también conocidos como casos activos). Se trata de personas que actualmente están infectadas con la enfermedad y son capaces de transmitir la enfermedad a quienes se encuentran en la etapa susceptible.\n",
    "\n",
    "* R (t): representa la subpoblación eliminada en el momento t (también conocidos como casos cerrados). Estos son individuos que han sido infectados y luego eliminados de la enfermedad, ya sea debido a que se recuperaron o murieron.\n",
    "\n",
    "* V (t): representa la subpoblación efectivamente vacunada en el momento t . Se trata de personas que han recibido la vacuna y han obtenido total inmunidad contra la infección. Tenga en cuenta que no todas las personas vacunadas se vuelven necesariamente inmunes.\n",
    "\n",
    "* β : denota la tasa de infección (transmisión). Representa el número de contactos per cápita por unidad de tiempo, multiplicado por la probabilidad de transmisión de la enfermedad en un contacto entre un individuo susceptible y uno infeccioso. Este parámetro se puede modificar, por ejemplo, mediante el distanciamiento social y los encierros.\n",
    "\n",
    "* γ : indica la tasa de eliminación, que es la fracción de la subpoblación infectada que abandona la etapa de infección, en el momento t , para entrar en la etapa de eliminación. La cantidad 1 / γ representa el período infeccioso promedio.\n",
    "\n",
    "* α : denota la eficacia de la vacuna. Representa la relación entre el número de personas que han recibido la vacuna y han adquirido inmunidad total contra la enfermedad y el número total de subpoblaciones vacunadas.\n",
    "\n",
    "* u (t): denota la tasa de vacunación diaria. Representa el número de vacunas administradas en el momento t .\n",
    "\n",
    "<h1><b>6.3 Modelo SIRDV<b></h1>\n",
    "<h4>El modelo SIRDV que amplía el modelo SIRV estándar separando los muertos de los recuperados, dando mas amplitud y mas posibilidad de estudio al modelo ampliado.</h4>\n",
    "<img class=\"center\" src=images/susceptible.png><br>\n",
    "<img class=\"center\" src=images/infected.png><br>\n",
    "<img class=\"center\" src=images/recovered.png><br>\n",
    "<img class=\"center\" src=images/deceased.png><br>\n",
    "<img class=\"center\" src=images/vaccinated.png><br>\n",
    "\n",
    "* S (t): representa la subpoblación susceptible en el momento t . Estos son individuos que aún no están infectados con la enfermedad en el momento t y no tienen inmunidad contra una posible infección.\n",
    "\n",
    "* I (t): representa la subpoblación infectada en el momento t (también conocidos como casos activos). Se trata de personas que actualmente están infectadas con la enfermedad y son capaces de transmitir la enfermedad a quienes se encuentran en la etapa susceptible.\n",
    "\n",
    "* R (t): representa la subpoblación recuperada en el momento t. Estos son individuos que han sido infectados y al transcurso de 8 dias se recuperaron.\n",
    "\n",
    "* D (t): representa la subpoblación muerta en el momento t. Estos son individuos que han sido infectados y al transcurso de 8 dias murieron.\n",
    "\n",
    "* V (t): representa la subpoblación efectivamente vacunada en el momento t . Se trata de personas que han recibido la vacuna y han obtenido inmunidad contra la infección. Tenga en cuenta que no todas las personas vacunadas se vuelven necesariamente inmunes.\n",
    "\n",
    "* β : denota la tasa de infección (transmisión). Representa el número de contactos per cápita por unidad de tiempo, multiplicado por la probabilidad de transmisión de la enfermedad en un contacto entre un individuo susceptible y uno infeccioso. Este parámetro se puede modificar, por ejemplo, mediante el distanciamiento social y los encierros.\n",
    "\n",
    "* γ : indica la tasa de mortalidad de la enfermedad, que es la fracción de la subpoblación infectada que abandona la etapa de infección, en el momento t , para entrar en la poblacion muerta. \n",
    "\n",
    "* α : denota la eficacia de la vacuna. Representa la relación entre el número de personas que han recibido la vacuna y han adquirido inmunidad total contra la enfermedad y el número total de subpoblaciones vacunadas.\n",
    "\n",
    "* u (t): denota la tasa de vacunación diaria. Representa el número de vacunas administradas en el momento t.\n",
    "\n",
    "![](./images/SIRDV.png)<br>"
   ]
  },
  {
   "cell_type": "markdown",
   "metadata": {
    "id": "elMkgqoxQjSz"
   },
   "source": [
    "#### Datos Reales\n",
    "Los siguientes datos en formato csv fueron conseguidos de un repositorio de recolección y organización de datos de **_Our World in Data_** en GitHub.\n",
    "\n",
    "Appel, C., Our World in Data, Beltekian, D., Gavrilov, D., Giattino, C., Hasell, J., Macdonald, B., Mathieu, E., Ortiz-Ospina, E., Ritchie, H., Rodés-Guirao, L., & Roser, M. (2021). Data on COVID-19 (coronavirus) by Our World in Data (Colombia). GitHub. [https://github.com/owid/covid-19-data/tree/master/public/data](https://github.com/owid/covid-19-data/tree/master/public/data)\n"
   ]
  },
  {
   "cell_type": "code",
   "execution_count": null,
   "metadata": {
    "id": "XZc0OD-kQtAF"
   },
   "outputs": [],
   "source": [
    "using CSV\n",
    "using DataFrames\n",
    "using Plots\n",
    "datos_vacunas = CSV.read(\"Colombia.csv\", DataFrame)"
   ]
  },
  {
   "cell_type": "markdown",
   "metadata": {
    "id": "AaQNrjzxQyD7"
   },
   "source": [
    "<h4>Vacunados por dia</h4>\n"
   ]
  },
  {
   "cell_type": "code",
   "execution_count": null,
   "metadata": {},
   "outputs": [],
   "source": [
    "plot([datos_vacunas[i,6] - datos_vacunas[i-1,6] for i in 25:length(datos_vacunas[:,6])], labels=\"Vacunacion Colombia entre 13/03 - 30/05\", size=(1000,600))"
   ]
  },
  {
   "cell_type": "code",
   "execution_count": null,
   "metadata": {
    "id": "l2OZ8dsTQ7D5"
   },
   "outputs": [],
   "source": [
    "plot([datos_vacunas[i,6] - datos_vacunas[i-1,6] for i in 25:71], labels=\"Vacunacion Colombia entre 13/03 - 02/05\", size=(1000,600))\n",
    "plot!([(sin(x/0.7)+1)*(100000/2) for x in 25:71], labels=\"Modelo aprox. de Vacunacion\", size=(1000,600))"
   ]
  },
  {
   "cell_type": "code",
   "execution_count": null,
   "metadata": {},
   "outputs": [],
   "source": [
    "plot([datos_vacunas[i,6] - datos_vacunas[i-1,6] for i in 71:length(datos_vacunas[:,6])], labels=\"Vacunacion Colombia entre 02/05 - 30/05\", size=(1000,600))\n",
    "plot!([(sin(x/0.7)+1)*(250000/2) for x in 71:length(datos_vacunas[:,6])], labels=\"Modelo aprox. de Vacunacion\", size=(1000,600))"
   ]
  },
  {
   "cell_type": "markdown",
   "metadata": {
    "id": "e8r2frduQJES"
   },
   "source": [
    "<h4>Metodo Euler y Funcion Para Realizar Grafico de Área</h4>\n"
   ]
  },
  {
   "cell_type": "code",
   "execution_count": null,
   "metadata": {
    "colab": {
     "base_uri": "https://localhost:8080/"
    },
    "id": "eBiDPqhgSUUd",
    "outputId": "85291b6b-ed74-4061-b9da-7b2969b81779"
   },
   "outputs": [],
   "source": [
    "@userplot StackedArea\n",
    "\n",
    "# a simple \"recipe\" for Plots.jl to get stacked area plots\n",
    "# usage: stackedarea(xvector, datamatrix, plotsoptions)\n",
    "@recipe function f(pc::StackedArea)\n",
    "    x, y = pc.args\n",
    "    n = length(x)\n",
    "    y = cumsum(y, dims=2)\n",
    "    seriestype := :shape\n",
    "\n",
    "    # create a filled polygon for each item\n",
    "    for c=1:size(y,2)\n",
    "        sx = vcat(x, reverse(x))\n",
    "        sy = vcat(y[:,c], c==1 ? zeros(n) : reverse(y[:,c-1]))\n",
    "        @series (sx, sy)\n",
    "    end\n",
    "end\n",
    "\n",
    "\n",
    "function eulerstep!(X::Vector{Vector{Float64}}, f::Function, h::Float64;\n",
    "    args=[]::Array{Any})\n",
    "    push!(X, X[end] + h * f(X,args...))\n",
    "end\n",
    "\n",
    "function eulermethod(X0::Vector{Float64}, f::Function, h::Float64, \n",
    "    stop::Function; args=[]::Array{Any})\n",
    "    X = [ X0 ]\n",
    "    while !stop(X)\n",
    "        eulerstep!(X, f, h, args=args)\n",
    "    end\n",
    "    return X\n",
    "end\n"
   ]
  },
  {
   "cell_type": "markdown",
   "metadata": {},
   "source": [
    "<h1>6.4 Implementacion de Modelo SIRDV utilizando Metodo de Euler</h1>"
   ]
  },
  {
   "cell_type": "code",
   "execution_count": null,
   "metadata": {
    "colab": {
     "base_uri": "https://localhost:8080/",
     "height": 638
    },
    "id": "7dYnj3agQBjI",
    "outputId": "16077de7-4c1e-4efe-da62-b0ccb2804705"
   },
   "outputs": [],
   "source": [
    "function vaccine_rate(x)\n",
    "    if x < 48 return 0 end\n",
    "    if x >= 48 && x < 122 return (sin(x/0.7)+1)*(100000/2) end\n",
    "    return (sin(x/0.7)+1)*(250000/2)\n",
    "end\n",
    "\n",
    "function derivative(X::Vector{Vector{Float64}}, N::Float64, \n",
    "        β::Float64, α::Float64, infection_time::Float64, \n",
    "        γ::Float64)\n",
    "\n",
    "    infection_time = convert(Int32, infection_time)\n",
    "    t, S, I, R, D, V = X[end]\n",
    "    vaccinated_today = min(S, α * vaccine_rate(t))\n",
    "    infected_today = min(S, β * (S * I / N))\n",
    "\n",
    "    uninfected_today = 0\n",
    "    recovered_today = 0\n",
    "    deceased_today = 0\n",
    "    if length(X) > infection_time\n",
    "        infected_before = min(X[end-infection_time][2], β * X[end-infection_time][2] * I / N)\n",
    "        uninfected_today = min(I, infected_before)\n",
    "        deceased_today = uninfected_today * γ\n",
    "        recovered_today = uninfected_today * (1-γ) \n",
    "    end\n",
    "\n",
    "    dtdt = 1\n",
    "    dSdt = (-infected_today - vaccinated_today)\n",
    "    dIdt = (infected_today - uninfected_today)\n",
    "    dRdt = recovered_today\n",
    "    dDdt = deceased_today\n",
    "    dVdt = vaccinated_today\n",
    "    return [dtdt, dSdt, dIdt, dRdt, dDdt, dVdt]\n",
    "end"
   ]
  },
  {
   "cell_type": "code",
   "execution_count": null,
   "metadata": {},
   "outputs": [],
   "source": [
    "effective_contact_rate = 0.05197536964\n",
    "vaccine_efficacy = 0.9\n",
    "total_pop = 51315383.0\n",
    "recovered = 1520548.0\n",
    "infected = 86437.0\n",
    "deceased = 43495.0\n",
    "vaccinated = 0.0\n",
    "mortality_rate = 0.032590880549635895\n",
    "infection_time = 8\n",
    "susceptible = total_pop - infected - recovered\n",
    "stopping_condition = X -> X[end][1] >= 360*3.5\n",
    "\n",
    "solution = eulermethod(convert(Vector{Float64},[0,susceptible, infected, \n",
    "    recovered, deceased, vaccinated]),\n",
    "    derivative, 1.0, stopping_condition,\n",
    "    args=[total_pop,effective_contact_rate,\n",
    "    vaccine_efficacy,infection_time,mortality_rate])\n",
    "\n",
    "ts = [solution[i][1] for i ∈ 1:length(solution)]\n",
    "SIRDV = [solution[i][j] for i ∈ 1:length(solution), j ∈ 2:length(solution[1])]"
   ]
  },
  {
   "cell_type": "markdown",
   "metadata": {},
   "source": [
    "<h1><b>7. Resultados<b></h1>"
   ]
  },
  {
   "cell_type": "markdown",
   "metadata": {},
   "source": [
    "<h4>Grafico de Área con los Resultados</h4>"
   ]
  },
  {
   "cell_type": "code",
   "execution_count": null,
   "metadata": {},
   "outputs": [],
   "source": [
    "stackedarea(ts, [SIRDV[:,2] SIRDV[:,3] SIRDV[:,1] SIRDV[:,5] SIRDV[:,4]], labels=[\"I\" \"R\" \"S\" \"V\" \"D\"],size=(1000,600))"
   ]
  },
  {
   "cell_type": "markdown",
   "metadata": {},
   "source": [
    "<h4>Grafica con los Resultados</h4>\n"
   ]
  },
  {
   "cell_type": "code",
   "execution_count": null,
   "metadata": {
    "colab": {
     "base_uri": "https://localhost:8080/",
     "height": 620
    },
    "id": "aGQMdGUWUrFg",
    "outputId": "0603411d-4a0b-462d-9a74-7f76175617ff"
   },
   "outputs": [],
   "source": [
    "plot(ts, [SIRDV[:,2] SIRDV[:,3] SIRDV[:,1] SIRDV[:,5] SIRDV[:,4]], labels=[\"I\" \"R\" \"S\" \"V\" \"D\"],size=(1000,600))"
   ]
  },
  {
   "cell_type": "markdown",
   "metadata": {},
   "source": [
    "<h1><b>8. Análisis y conclusiones<b></h1>"
   ]
  },
  {
   "cell_type": "markdown",
   "metadata": {},
   "source": [
    "## Analisis del dia 19 de abril 2021\n",
    "Puedes visitar [https://espanol.epochconverter.com/dias/2021](https://espanol.epochconverter.com/dias/2021) para elegir el día sobre el cual deseas analizar el modelo. En este caso, el dia 19/04/2021 representa el día 109 del modelo."
   ]
  },
  {
   "cell_type": "code",
   "execution_count": null,
   "metadata": {},
   "outputs": [],
   "source": [
    "using Dates\n",
    "#Formato AAAA, MM, DD\n",
    "fechaDeAnalisis = Date(2021, 04, 19)\n",
    "diaDeAnalisis = Dates.dayofyear(fechaDeAnalisis)"
   ]
  },
  {
   "cell_type": "code",
   "execution_count": null,
   "metadata": {},
   "outputs": [],
   "source": [
    "using PrettyTables\n",
    "S, I, R, D, V = SIRDV[diaDeAnalisis,:]\n",
    "data = [fechaDeAnalisis S I R D V]\n",
    "header = [\"Fecha\" \"Susceptible\" \"Infectado\" \"Recuperado\" \"Fallecidos\" \"Vacunados\";\n",
    "            \"\" \"[S]\" \"[I]\" \"[R]\" \"[D]\" \"[V]\"]\n",
    "pretty_table(data, header; formatters = ft_printf(\"%'.0f\"), alignment=:c)"
   ]
  },
  {
   "cell_type": "markdown",
   "metadata": {},
   "source": [
    "## Reportes del Ministerio de Salud\n",
    "Si revisamos los reportes de COVID y de vacunación que publico el Ministerio de Salud el día 19 de abril de 2021, podemos comparar los datos reales con los datos predichos por el modelo, para así poder obtener el error relativo de el día analizado."
   ]
  },
  {
   "cell_type": "markdown",
   "metadata": {},
   "source": [
    "<img src=\"https://www.minsalud.gov.co/salud/publica/PET/PublishingImages/covid-19%20Colombia/190421_post_coronavirus_baja.jpg\" width=\"400\"/>\n",
    "<img src=\"https://www.minsalud.gov.co/salud/publica/Vacunacion/PublishingImages/Vacunas%20covid/190421_post_vacunas_covid.jpg\" width=\"400\"/>\n",
    "<br>\n",
    "\n",
    "Fuentes: MinSalud. (2021a, abril 19). CORONAVIRUS (COVID-19). Ministerio de Salud y Protección Social. <https://www.minsalud.gov.co/salud/publica/PET/Paginas/Covid-19_copia.aspx><br>\n",
    "MinSalud. (2021b, abril 19). Vacunación contra COVID-19. Ministerio de Salud y Protección Social. <https://www.minsalud.gov.co/salud/publica/Vacunacion/Paginas/Vacunacion-covid-19.aspx>"
   ]
  },
  {
   "cell_type": "code",
   "execution_count": null,
   "metadata": {},
   "outputs": [],
   "source": [
    "I_Real = 101106\n",
    "R_Real = 2488246\n",
    "D_Real = 68748\n",
    "V_Real = 3867076 - 1188303\n",
    "data = [\"I\" I_Real round(Int, I) \"$(round(Int, abs(I_Real - round(Int, I))*100/I_Real))%\";\n",
    "        \"R\" R_Real round(Int, R) \"$(round(Int, abs(R_Real - round(Int, R))*100/R_Real))%\";\n",
    "        \"D\" D_Real round(Int, D) \"$(round(Int, abs(D_Real - round(Int, D))*100/D_Real))%\";\n",
    "        \"V\" V_Real round(Int, V) \"$(round(Int, abs(V_Real - round(Int, V))*100/V_Real))%\";]\n",
    "header = [\"Variable\" \"Valor Real\" \"Valor del Modelo\" \"Error relativo\"]\n",
    "pretty_table(data, header; formatters = ft_printf(\"%'.0f\"), alignment=:c)"
   ]
  },
  {
   "cell_type": "markdown",
   "metadata": {},
   "source": [
    "## Analisis del final del año"
   ]
  },
  {
   "cell_type": "code",
   "execution_count": null,
   "metadata": {},
   "outputs": [],
   "source": [
    "diaDeAnalisis = 365\n",
    "S, I, R, D, V = SIRDV[diaDeAnalisis,:]\n",
    "data = [\"2021-12-31\" S I R D V]\n",
    "header = [\"Fecha\" \"Susceptible\" \"Infectado\" \"Recuperado\" \"Fallecidos\" \"Vacunados\";\n",
    "            \"\" \"[S]\" \"[I]\" \"[R]\" \"[D]\" \"[V]\"]\n",
    "pretty_table(data, header; formatters = ft_printf(\"%'.0f\"), alignment=:c)\n",
    "V_Deseado = total_pop * 0.75\n",
    "data = [\"V\" V_Deseado round(Int, V) (V_Deseado - V)]\n",
    "header = [\"Variable\" \"Valor Deseado (75% Poblacion colombiana)\" \"Valor del Modelo\" \"Valor Deseado - Valor del Modelo\"]\n",
    "pretty_table(data, header; formatters = ft_printf(\"%'.0f\"), alignment=:c)"
   ]
  },
  {
   "cell_type": "markdown",
   "metadata": {},
   "source": [
    "## Conclusiones\n",
    "Al observar los resultados del modelo SIRDV, podemos identificar diferentes puntos importantes\n",
    "* El avance del proceso de vacunación ayuda directamente a disminuir el total de la población susceptible a contraer el virus, y por ende disminuye las muertes, razón por la cual es importante que el gobierno continúe con el proceso y busque maneras de mejorarlo.\n",
    "* Aunque en un primer momento el proceso de vacunación avanzaba de forma muy lenta, se ha evidenciado una mejora sustanciosa durante el ultimo mes, que afecta a la predicción inicial de manera positiva, ya que disminuye el tiempo requerido para vacunar al 75% de la población, y también el ideal del 100% de la población.\n",
    "* Si bien es cierto que se ha evidenciado una mejora durante el ultimo mes, esta sigue sin ser suficiente para alcanzar la meta de inmunizar al 75% de la población colombiana para el final del 2021, ya que el modelo predice un déficit de un poco menos de 8 millones de personas, lo cual sigue siendo alarmante y da un indicio a que el gobierno debe buscar mejorar aun mas el proceso de vacunación que esta llevando a cabo para poder cumplir de manera satisfactoria con la meta propuesta.\n",
    "* Este tipo de modelos ayudan especialmente para hacer correcciones en la realidad, ya que si un modelo muestra un desfase o un déficit con el valor esperado, se puede analizar que es lo que esta pasando y plantear alternativas y soluciones que busquen cambiar la predicción inicial del modelo.\n"
   ]
  },
  {
   "cell_type": "markdown",
   "metadata": {
    "id": "kgnWJVEn9t97"
   },
   "source": [
    "<h1><b>9. Referencias bibliográficas<b></h1>\n",
    "\n",
    "*   Colombia, M. (2021). CORONAVIRUS (COVID-19). Retrieved 20 April 2021, from <https://www.minsalud.gov.co/salud/publica/PET/Paginas/Covid-19_copia.aspx>\n",
    "\n",
    "*   Colab, J. (2021). Julia in Google Colab. Retrieved 20 April 2021, from <https://stackoverflow.com/questions/58270424/julia-in-google-colab>\n",
    "\n",
    "*   Harizi, I., Berkane, S., & Tayebi, A. (2021, 8 febrero). Modeling the Effect of Population-Wide Vaccination on the Evolution of COVID-19 Epidemic in Canada. MedRxiv.<https://www.medrxiv.org/content/10.1101/2021.02.05.21250572v1.full>\n",
    "\n",
    "*   colaboradores de Wikipedia. (2020a, mayo 26). Modelo SIR. Wikipedia, la enciclopedia libre. <https://es.wikipedia.org/wiki/Modelo_SIR>\n",
    "\n",
    "*   Álvarez, C. (2021, enero). Ecuaciones Diferenciales Ordinarias. GitHub. <https://github.com/carlosalvarezh/Analisis_Numerico/blob/master/Cap06_EDO.ipynb>\n",
    "\n",
    "*   colaboradores de Wikipedia. (2020, 11 diciembre). Método de Euler. Wikipedia, la enciclopedia libre. <https://es.wikipedia.org/wiki/M%C3%A9todo_de_Euler>\n",
    "\n",
    "*   Nytimes.com. 2021. Cómo fabrica Pfizer su vacuna para la COVID-19. [online] Available at: <https://www.nytimes.com/es/interactive/2021/health/pfizer-vacuna-covid.html> [Accessed 31 May 2021].\n",
    "\n",
    "*   \"Hacer que un virus mute hasta morir\": qué es la mutagénesis letal (y en qué medida podría ayudar a combatir la covid-19) - BBC News Mundo. (2021). Retrieved 31 May 2021, from <https://www.bbc.com/mundo/noticias-54451075>\n",
    "\n",
    "*   Appel, C., Our World in Data, Beltekian, D., Gavrilov, D., Giattino, C., Hasell, J., Macdonald, B., Mathieu, E., Ortiz-Ospina, E., Ritchie, H., Rodés-Guirao, L., & Roser, M. (2021). Data on COVID-19 (coronavirus) by Our World in Data (Colombia). GitHub. <https://github.com/owid/covid-19-data/tree/master/public/data>"
   ]
  }
 ],
 "metadata": {
  "kernelspec": {
   "display_name": "Julia 1.7.0-beta3",
   "language": "julia",
   "name": "julia-1.7"
  },
  "language_info": {
   "file_extension": ".jl",
   "mimetype": "application/julia",
   "name": "julia",
   "version": "1.7.0"
  }
 },
 "nbformat": 4,
 "nbformat_minor": 1
}
